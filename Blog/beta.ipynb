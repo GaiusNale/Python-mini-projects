{
 "cells": [
  {
   "cell_type": "code",
   "execution_count": 26,
   "metadata": {},
   "outputs": [],
   "source": [
    "import os\n",
    "import markdown"
   ]
  },
  {
   "cell_type": "code",
   "execution_count": 27,
   "metadata": {},
   "outputs": [],
   "source": [
    "ARTICLES_DIR = \"articles\"\n",
    "DRAFTS_DIR = \"drafts\""
   ]
  },
  {
   "cell_type": "code",
   "execution_count": 28,
   "metadata": {},
   "outputs": [],
   "source": [
    "os.makedirs(ARTICLES_DIR, exist_ok=True)\n",
    "os.makedirs(DRAFTS_DIR, exist_ok=True)"
   ]
  },
  {
   "cell_type": "code",
   "execution_count": 29,
   "metadata": {},
   "outputs": [],
   "source": [
    "def list_articles():\n",
    "    \"\"\"List Existing Articles.\"\"\"\n",
    "    articles = os.listdir(ARTICLES_DIR)\n",
    "    print (\"Existing Articles: \")\n",
    "    for index, article in enumerate(articles, start = 1):\n",
    "        print(f\"{index}. {article}\")"
   ]
  },
  {
   "cell_type": "code",
   "execution_count": 30,
   "metadata": {},
   "outputs": [],
   "source": [
    "def create_article():\n",
    "    \"\"\"Create a New Article.\"\"\"\n",
    "    title = input(\"Enter the title: \")\n",
    "    content = input(\"Enter the content: \")\n",
    "    file_name = os.path.join(ARTICLES_DIR, title + \".md\")\n",
    "    with open (file_name, \"w\") as file:\n",
    "        file.write(content)\n",
    "    print (f\"Article '{title}' created sucessfullly\")"
   ]
  },
  {
   "cell_type": "code",
   "execution_count": 31,
   "metadata": {},
   "outputs": [],
   "source": [
    "def read_article():\n",
    "    \"\"\"Read an Exixting Article.\"\"\"\n",
    "    list_articles()\n",
    "    choice = int(input(\"Enter the article number you wish to read: \"))\n",
    "    articles = os.listdir(ARTICLES_DIR)\n",
    "    if 1 <= choice <= len(articles):\n",
    "        file_name = os.path.join(ARTICLES_DIR, articles [choice - 1])\n",
    "        with open (file_name, \"r\") as file:\n",
    "            content = file.read()\n",
    "            rendered_content = markdown.markdown(content)\n",
    "            print(rendered_content)\n",
    "    else:\n",
    "        print (\"Invalid Choice\")"
   ]
  },
  {
   "cell_type": "code",
   "execution_count": 32,
   "metadata": {},
   "outputs": [],
   "source": [
    "def update_article():\n",
    "    \"\"\"Update an existing article.\"\"\"\n",
    "    list_articles()\n",
    "    choice = int(input(\"Enter the article you wish to update: \"))\n",
    "    articles = os.listdir (ARTICLES_DIR)\n",
    "    if 1 <= choice <= len(articles):\n",
    "        file_name = os.path.join(ARTICLES_DIR, articles [choice - 1])\n",
    "        with open (file_name, \"r\") as file:\n",
    "            content = file.read()\n",
    "        print (f\"Current content:\\n {content}\")\n",
    "        new_content = input(\"Enter the updated content: \")\n",
    "        with open(file_name, \"w\") as file:\n",
    "            file.write(new_content)\n",
    "        print (f\"Artilce updated successfully\")\n",
    "    else:\n",
    "        print (\"Invalid choice.\")\n",
    " "
   ]
  },
  {
   "cell_type": "code",
   "execution_count": 33,
   "metadata": {},
   "outputs": [],
   "source": [
    "def delete_article():\n",
    "    \"\"\"Delete an existing article.\"\"\"\n",
    "    list_articles()\n",
    "    choice = int(input(\"Enter the article number you wish to delete: \"))\n",
    "    articles = os.listdir(ARTICLES_DIR)\n",
    "    if 1 <= choice <= len(articles):\n",
    "        file_name = os.path.join(ARTICLES_DIR, articles[choice - 1])\n",
    "        os.remove(file_name)\n",
    "        print(f\"Article deleted successfully!\")\n",
    "    else:\n",
    "        print(\"Invalid Choice\")"
   ]
  },
  {
   "cell_type": "code",
   "execution_count": 34,
   "metadata": {},
   "outputs": [
    {
     "name": "stdout",
     "output_type": "stream",
     "text": [
      "\n",
      "Menu:\n",
      "1. List Articles\n",
      "2. Create Article\n",
      "3. Read Article\n",
      "4. Update Article\n",
      "5. Delete Article\n",
      "0. Exit\n",
      "Existing Articles: \n",
      "1. .md\n",
      "2. I Kinda did it.md\n",
      "3. WHY SLEEP IS IMPORTANT.md\n",
      "<p>I need to sleep</p>\n",
      "\n",
      "Menu:\n",
      "1. List Articles\n",
      "2. Create Article\n",
      "3. Read Article\n",
      "4. Update Article\n",
      "5. Delete Article\n",
      "0. Exit\n",
      "Existing Articles: \n",
      "1. .md\n",
      "2. I Kinda did it.md\n",
      "3. WHY SLEEP IS IMPORTANT.md\n",
      "Article deleted successfully!\n",
      "\n",
      "Menu:\n",
      "1. List Articles\n",
      "2. Create Article\n",
      "3. Read Article\n",
      "4. Update Article\n",
      "5. Delete Article\n",
      "0. Exit\n",
      "Article 'BLOG IS LOOKING GOOD' created sucessfullly\n",
      "\n",
      "Menu:\n",
      "1. List Articles\n",
      "2. Create Article\n",
      "3. Read Article\n",
      "4. Update Article\n",
      "5. Delete Article\n",
      "0. Exit\n",
      "Existing Articles: \n",
      "1. BLOG IS LOOKING GOOD.md\n",
      "2. I Kinda did it.md\n",
      "3. WHY SLEEP IS IMPORTANT.md\n",
      "<p>Truly looking good blog</p>\n",
      "\n",
      "Menu:\n",
      "1. List Articles\n",
      "2. Create Article\n",
      "3. Read Article\n",
      "4. Update Article\n",
      "5. Delete Article\n",
      "0. Exit\n"
     ]
    }
   ],
   "source": [
    "while True:\n",
    "    print (\"\\nMenu:\")\n",
    "    print (\"1. List Articles\")\n",
    "    print (\"2. Create Article\")\n",
    "    print (\"3. Read Article\")\n",
    "    print (\"4. Update Article\")\n",
    "    print (\"5. Delete Article\")\n",
    "    print (\"0. Exit\")\n",
    "    choice = input(\"Enter your choice: \")\n",
    "\n",
    "    if choice == \"1\":\n",
    "        list_articles()\n",
    "    elif choice == \"2\":\n",
    "        create_article()\n",
    "    elif choice == \"3\":\n",
    "        read_article()\n",
    "    elif choice == \"4\":\n",
    "        update_article()\n",
    "    elif choice == \"5\":\n",
    "        delete_article()\n",
    "    elif choice == \"0\":\n",
    "        break\n",
    "    else:\n",
    "        print (\"Invalid choice. Please select a valid option.\")"
   ]
  }
 ],
 "metadata": {
  "kernelspec": {
   "display_name": "Python 3",
   "language": "python",
   "name": "python3"
  },
  "language_info": {
   "codemirror_mode": {
    "name": "ipython",
    "version": 3
   },
   "file_extension": ".py",
   "mimetype": "text/x-python",
   "name": "python",
   "nbconvert_exporter": "python",
   "pygments_lexer": "ipython3",
   "version": "3.10.8"
  },
  "orig_nbformat": 4
 },
 "nbformat": 4,
 "nbformat_minor": 2
}

{
 "cells": [
  {
   "cell_type": "code",
   "execution_count": 1,
   "metadata": {},
   "outputs": [],
   "source": [
    "import urllib.request\n",
    "import requests\n",
    "from bs4 import BeautifulSoup\n",
    "import time"
   ]
  },
  {
   "cell_type": "code",
   "execution_count": 2,
   "metadata": {},
   "outputs": [],
   "source": [
    "url =  \"https://www.cnn.com/\"\n",
    "\n",
    "response = urllib.request.urlopen(url)\n",
    "web_content =response.read() "
   ]
  },
  {
   "cell_type": "code",
   "execution_count": 3,
   "metadata": {},
   "outputs": [],
   "source": [
    "soup = BeautifulSoup(web_content, \"html.parser\")"
   ]
  },
  {
   "cell_type": "code",
   "execution_count": 4,
   "metadata": {},
   "outputs": [],
   "source": [
    "headlines = soup.find_all ('span', class_= \"container__headline-text\")"
   ]
  },
  {
   "cell_type": "code",
   "execution_count": 5,
   "metadata": {},
   "outputs": [
    {
     "name": "stdout",
     "output_type": "stream",
     "text": [
      "Todays Top Headlines\n",
      "--------------------\n",
      "1. \u001b[95mMatthew Perry dies\u001b[0m\n",
      "----------------------------------------\n",
      "2. \u001b[95mMaine shooting\u001b[0m\n",
      "----------------------------------------\n",
      "3. \u001b[95m‘White hydrogen’\u001b[0m\n",
      "----------------------------------------\n",
      "4. \u001b[95mLuis Rubiales ban\u001b[0m\n",
      "----------------------------------------\n",
      "5. \u001b[95mLong-haul and low-cost airlines\u001b[0m\n",
      "----------------------------------------\n",
      "6. \u001b[95mPyramids exhibition\u001b[0m\n",
      "----------------------------------------\n",
      "7. \u001b[95mMagic Johnson\u001b[0m\n",
      "----------------------------------------\n",
      "8. \u001b[95mIDF says operation in enclave is ‘only set to intensify,’ as UN warns of growing hunger in Gaza amid desperate wait for fresh aid\u001b[0m\n",
      "----------------------------------------\n",
      "9. \u001b[95mShani Louk, 23-year-old kidnapped by Hamas from music festival, found dead, Israel says\u001b[0m\n",
      "----------------------------------------\n",
      "10. \u001b[95mTroops advance in Gaza, ‘impossible’ hospital evacuation and regional warnings\u001b[0m\n",
      "----------------------------------------\n"
     ]
    }
   ],
   "source": [
    "print (\"Todays Top Headlines\")\n",
    "print (\"-\" * 20)\n",
    "\n",
    "for index, headline in enumerate(headlines[:10], start=1):\n",
    "    print(f\"{index}. \\033[95m{headline.text}\\033[0m\")\n",
    "    print (\"-\" * 40)\n"
   ]
  },
  {
   "cell_type": "code",
   "execution_count": 6,
   "metadata": {},
   "outputs": [
    {
     "name": "stdout",
     "output_type": "stream",
     "text": [
      "Selected headline: Matthew Perry dies\n",
      "Selected headline: Matthew Perry dies\n",
      "Selected headline: Matthew Perry dies\n",
      "Selected headline: Maine shooting\n",
      "Selected headline: ‘White hydrogen’\n",
      "Selected headline: Long-haul and low-cost airlines\n",
      "Selected headline: Pyramids exhibition\n",
      "Selected headline: Magic Johnson\n",
      "Selected headline: IDF says operation in enclave is ‘only set to intensify,’ as UN warns of growing hunger in Gaza amid desperate wait for fresh aid\n",
      "Selected headline: Shani Louk, 23-year-old kidnapped by Hamas from music festival, found dead, Israel says\n",
      "Invalid input. Please enter a number.\n",
      "Invalid input. Please enter a number.\n",
      "Invalid input. Please enter a number.\n",
      "Invalid input. Please enter a number.\n"
     ]
    }
   ],
   "source": [
    "while True:\n",
    "    try:\n",
    "        choice = int(input(\"Enter the number of the headline you wish to read (0 to exit)\"))\n",
    "        if choice == 0:\n",
    "            break\n",
    "        elif 1 <= choice <= 10:\n",
    "            selected_headline = headlines [choice - 1].text\n",
    "            print (f\"Selected headline: {selected_headline}\")\n",
    "        else:\n",
    "            print (\"Invalid Choice. Please Select a number between 1 and 10.\")\n",
    "    except ValueError:\n",
    "        print (\"Invalid input. Please enter a number.\")\n",
    "\n",
    "time.sleep(1)"
   ]
  }
 ],
 "metadata": {
  "kernelspec": {
   "display_name": "Python 3",
   "language": "python",
   "name": "python3"
  },
  "language_info": {
   "codemirror_mode": {
    "name": "ipython",
    "version": 3
   },
   "file_extension": ".py",
   "mimetype": "text/x-python",
   "name": "python",
   "nbconvert_exporter": "python",
   "pygments_lexer": "ipython3",
   "version": "3.10.8"
  },
  "orig_nbformat": 4
 },
 "nbformat": 4,
 "nbformat_minor": 2
}

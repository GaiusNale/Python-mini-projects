{
 "cells": [
  {
   "cell_type": "code",
   "execution_count": 37,
   "metadata": {},
   "outputs": [],
   "source": [
    "import urllib.request\n",
    "import requests\n",
    "from bs4 import BeautifulSoup\n",
    "import time"
   ]
  },
  {
   "cell_type": "code",
   "execution_count": null,
   "metadata": {},
   "outputs": [],
   "source": [
    "url =  \"https://www.cnn.com/\"\n",
    "\n",
    "response = urllib.request.urlopen(url)\n",
    "web_content =response.read() "
   ]
  },
  {
   "cell_type": "code",
   "execution_count": null,
   "metadata": {},
   "outputs": [],
   "source": [
    "soup = BeautifulSoup(web_content, \"html.parser\")"
   ]
  },
  {
   "cell_type": "code",
   "execution_count": 70,
   "metadata": {},
   "outputs": [],
   "source": [
    "headlines = soup.find_all ('span', class_= \"container__headline-text\")\n",
    "article_links = [link.find('a')['href'] for link in soup.find_all('a', href=True, class_= \"container__link container__link--type-live-story container_lead-plus-headlines-with-images__link container_lead-plus-headlines-with-images__left container_lead-plus-headlines-with-images__light\")]"
   ]
  },
  {
   "cell_type": "code",
   "execution_count": 74,
   "metadata": {},
   "outputs": [
    {
     "name": "stdout",
     "output_type": "stream",
     "text": [
      "Todays Top Headlines\n",
      "--------------------\n",
      "1. \u001b[95mIsrael-Hamas war\u001b[0m\n",
      "   Article Link: []\n",
      "----------------------------------------\n",
      "2. \u001b[95mMaine mass shooting\u001b[0m\n",
      "   Article Link: []\n",
      "----------------------------------------\n",
      "3. \u001b[95mFormer Chinese Premier dies\u001b[0m\n",
      "   Article Link: []\n",
      "----------------------------------------\n",
      "4. \u001b[95mUkrainian town in ruins\u001b[0m\n",
      "   Article Link: []\n",
      "----------------------------------------\n",
      "5. \u001b[95mChinese fighter jet\u001b[0m\n",
      "   Article Link: []\n",
      "----------------------------------------\n",
      "6. \u001b[95mNorway’s running family\u001b[0m\n",
      "   Article Link: []\n",
      "----------------------------------------\n",
      "7. \u001b[95mTaylor Swift\u001b[0m\n",
      "   Article Link: []\n",
      "----------------------------------------\n",
      "8. \u001b[95mAn intense manhunt is underway for suspect Robert Card, 36 hours after mass shootings left 18 dead. His experience with guns and the outdoors make the effort dangerous.\u001b[0m\n",
      "   Article Link: []\n",
      "----------------------------------------\n",
      "9. \u001b[95mMaine communities under stay-at-home orders\u001b[0m\n",
      "   Article Link: []\n",
      "----------------------------------------\n",
      "10. \u001b[95mHere’s what we know about the Maine shooting suspect\u001b[0m\n",
      "   Article Link: []\n",
      "----------------------------------------\n"
     ]
    }
   ],
   "source": [
    "print (\"Todays Top Headlines\")\n",
    "print (\"-\" * 20)\n",
    "\n",
    "for index, headline in enumerate(headlines[:10], start=1):\n",
    "    print(f\"{index}. \\033[95m{headline.text}\\033[0m\")\n",
    "    print (f\"   Article Link: {article_links}\")\n",
    "    print (\"-\" * 40)\n"
   ]
  },
  {
   "cell_type": "code",
   "execution_count": 47,
   "metadata": {},
   "outputs": [
    {
     "ename": "IndexError",
     "evalue": "list index out of range",
     "output_type": "error",
     "traceback": [
      "\u001b[1;31m---------------------------------------------------------------------------\u001b[0m",
      "\u001b[1;31mIndexError\u001b[0m                                Traceback (most recent call last)",
      "\u001b[1;32mc:\\Users\\Gaius\\Documents\\Projects\\Web Scraper\\web_scraper_beta.ipynb Cell 8\u001b[0m in \u001b[0;36m8\n\u001b[0;32m      <a href='vscode-notebook-cell:/c%3A/Users/Gaius/Documents/Projects/Web%20Scraper/web_scraper_beta.ipynb#W5sZmlsZQ%3D%3D?line=5'>6</a>\u001b[0m \u001b[39melif\u001b[39;00m \u001b[39m1\u001b[39m \u001b[39m<\u001b[39m\u001b[39m=\u001b[39m choice \u001b[39m<\u001b[39m\u001b[39m=\u001b[39m \u001b[39m10\u001b[39m:\n\u001b[0;32m      <a href='vscode-notebook-cell:/c%3A/Users/Gaius/Documents/Projects/Web%20Scraper/web_scraper_beta.ipynb#W5sZmlsZQ%3D%3D?line=6'>7</a>\u001b[0m     selected_headline \u001b[39m=\u001b[39m headlines [choice \u001b[39m-\u001b[39m \u001b[39m1\u001b[39m]\u001b[39m.\u001b[39mtext\n\u001b[1;32m----> <a href='vscode-notebook-cell:/c%3A/Users/Gaius/Documents/Projects/Web%20Scraper/web_scraper_beta.ipynb#W5sZmlsZQ%3D%3D?line=7'>8</a>\u001b[0m     article_url \u001b[39m=\u001b[39m full_article_links[choice \u001b[39m-\u001b[39m \u001b[39m1\u001b[39m]\n\u001b[0;32m      <a href='vscode-notebook-cell:/c%3A/Users/Gaius/Documents/Projects/Web%20Scraper/web_scraper_beta.ipynb#W5sZmlsZQ%3D%3D?line=8'>9</a>\u001b[0m     article_response \u001b[39m=\u001b[39m requests\u001b[39m.\u001b[39mget(article_url)\n\u001b[0;32m     <a href='vscode-notebook-cell:/c%3A/Users/Gaius/Documents/Projects/Web%20Scraper/web_scraper_beta.ipynb#W5sZmlsZQ%3D%3D?line=9'>10</a>\u001b[0m     article_soup \u001b[39m=\u001b[39m BeautifulSoup(article_response\u001b[39m.\u001b[39mtext, \u001b[39m'\u001b[39m\u001b[39mhtml.parser\u001b[39m\u001b[39m'\u001b[39m)\n",
      "\u001b[1;31mIndexError\u001b[0m: list index out of range"
     ]
    }
   ],
   "source": [
    "while True:\n",
    "    try:\n",
    "        choice = int(input(\"Enter the number of the headline you wish to read (0 to exit)\"))\n",
    "        if choice == 0:\n",
    "            break\n",
    "        elif 1 <= choice <= 10:\n",
    "            selected_headline = headlines [choice - 1].text\n",
    "            article_url = full_article_links[choice - 1]\n",
    "            article_response = requests.get(article_url)\n",
    "            article_soup = BeautifulSoup(article_response.text, 'html.parser')\n",
    "            paragraphs = article_soup.find_all('p', class_= \"paragraph inline-placeholder\")\n",
    "            print (f\"Selected headline: {selected_headline}\")\n",
    "            for paragraph in paragraphs:\n",
    "                print(paragraph.get_text())\n",
    "            print(\"\\n\")\n",
    "        else:\n",
    "            print (\"Invalid Choice. Please Select a number between 1 and 10.\")\n",
    "    except ValueError:\n",
    "        print (\"Invalid input. Please enter a number.\")\n",
    "\n",
    "time.sleep(1)"
   ]
  },
  {
   "cell_type": "code",
   "execution_count": null,
   "metadata": {},
   "outputs": [],
   "source": []
  }
 ],
 "metadata": {
  "kernelspec": {
   "display_name": "Python 3",
   "language": "python",
   "name": "python3"
  },
  "language_info": {
   "codemirror_mode": {
    "name": "ipython",
    "version": 3
   },
   "file_extension": ".py",
   "mimetype": "text/x-python",
   "name": "python",
   "nbconvert_exporter": "python",
   "pygments_lexer": "ipython3",
   "version": "3.10.8"
  },
  "orig_nbformat": 4
 },
 "nbformat": 4,
 "nbformat_minor": 2
}

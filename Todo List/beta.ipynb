{
 "cells": [
  {
   "cell_type": "code",
   "execution_count": 129,
   "metadata": {},
   "outputs": [],
   "source": [
    "import tkinter as tk\n",
    "from tkinter import messagebox"
   ]
  },
  {
   "cell_type": "code",
   "execution_count": 130,
   "metadata": {},
   "outputs": [],
   "source": [
    "def add_task():\n",
    "    task = entry.get()\n",
    "    if task:\n",
    "        listbox.insert (tk.END, task)\n",
    "        entry.delete(0, tk.END)"
   ]
  },
  {
   "cell_type": "code",
   "execution_count": 131,
   "metadata": {},
   "outputs": [],
   "source": [
    "def complete_task():\n",
    "     selected_task_index = listbox.curselection()\n",
    "     if selected_task_index:\n",
    "          listbox.delete (selected_task_index)"
   ]
  },
  {
   "cell_type": "code",
   "execution_count": 132,
   "metadata": {},
   "outputs": [],
   "source": [
    "def show_about():\n",
    "    messagebox.showinfo(\"About\", \"Simple To-Do List\\nVersion 1.0\\nVersion 1.0\\nCreated by Gaius\")"
   ]
  },
  {
   "cell_type": "code",
   "execution_count": 133,
   "metadata": {},
   "outputs": [
    {
     "data": {
      "text/plain": [
       "''"
      ]
     },
     "execution_count": 133,
     "metadata": {},
     "output_type": "execute_result"
    }
   ],
   "source": [
    "window = tk.Tk()\n",
    "window.title(\"To-Do List\")"
   ]
  },
  {
   "cell_type": "code",
   "execution_count": 134,
   "metadata": {},
   "outputs": [],
   "source": [
    "entry = tk.Entry(window, font=(\"Helvetica, 12\"), width=35)\n",
    "entry.pack(pady= 13)"
   ]
  },
  {
   "cell_type": "code",
   "execution_count": 135,
   "metadata": {},
   "outputs": [],
   "source": [
    "add_button_img = tk.PhotoImage(file= \"task.png\")\n",
    "add_button = tk.Button(window, image= add_button_img, command=add_task, borderwidth=0)\n",
    "add_button.image = add_button_img\n",
    "add_button.pack()"
   ]
  },
  {
   "cell_type": "code",
   "execution_count": 136,
   "metadata": {},
   "outputs": [],
   "source": [
    "listbox = tk.Listbox(window, font=(\"Helvetica\", 12), selectmode=tk.SINGLE, bg=\"#808080\", selectbackground=\"#99ccff\")\n",
    "listbox.pack (pady=10, padx=10, fill=tk.BOTH, expand=True)"
   ]
  },
  {
   "cell_type": "code",
   "execution_count": 137,
   "metadata": {},
   "outputs": [],
   "source": [
    "complete_buttton_img = tk.PhotoImage(file=\"delete.png\")\n",
    "complete_buttton = tk.Button(window, image= complete_buttton_img, command= complete_task, borderwidth=0)\n",
    "complete_buttton.image = complete_buttton_img\n",
    "complete_buttton.pack()"
   ]
  },
  {
   "cell_type": "code",
   "execution_count": 138,
   "metadata": {},
   "outputs": [],
   "source": [
    "menubar = tk.Menu(window)\n",
    "window.config (menu=menubar)"
   ]
  },
  {
   "cell_type": "code",
   "execution_count": 139,
   "metadata": {},
   "outputs": [],
   "source": [
    "file_menu =  tk.Menu(menubar, tearoff=0)\n",
    "menubar.add_cascade(label=\"File\", menu= file_menu)\n",
    "file_menu.add_command(label=\"Exit\", command=window.destroy)"
   ]
  },
  {
   "cell_type": "code",
   "execution_count": 140,
   "metadata": {},
   "outputs": [],
   "source": [
    "help_menu =  tk.Menu(menubar, tearoff=0)\n",
    "menubar.add_cascade(label=\"Help\", menu= help_menu)\n",
    "help_menu.add_command(label=\"About\", command= show_about)"
   ]
  },
  {
   "cell_type": "code",
   "execution_count": 141,
   "metadata": {},
   "outputs": [],
   "source": [
    "window.mainloop()"
   ]
  },
  {
   "cell_type": "code",
   "execution_count": null,
   "metadata": {},
   "outputs": [],
   "source": []
  }
 ],
 "metadata": {
  "kernelspec": {
   "display_name": "Python 3",
   "language": "python",
   "name": "python3"
  },
  "language_info": {
   "codemirror_mode": {
    "name": "ipython",
    "version": 3
   },
   "file_extension": ".py",
   "mimetype": "text/x-python",
   "name": "python",
   "nbconvert_exporter": "python",
   "pygments_lexer": "ipython3",
   "version": "3.10.8"
  },
  "orig_nbformat": 4
 },
 "nbformat": 4,
 "nbformat_minor": 2
}

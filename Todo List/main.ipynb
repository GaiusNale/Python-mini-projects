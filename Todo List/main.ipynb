{
 "cells": [
  {
   "cell_type": "code",
   "execution_count": 19,
   "metadata": {},
   "outputs": [],
   "source": [
    "import tkinter as tk"
   ]
  },
  {
   "cell_type": "code",
   "execution_count": 20,
   "metadata": {},
   "outputs": [
    {
     "data": {
      "text/plain": [
       "''"
      ]
     },
     "execution_count": 20,
     "metadata": {},
     "output_type": "execute_result"
    }
   ],
   "source": [
    "window = tk.Tk()\n",
    "window.title(\"To-Do List\")\n",
    "window.geometry(\"400x650+30+25\")\n",
    "window.resizable(False,False)"
   ]
  },
  {
   "cell_type": "code",
   "execution_count": 21,
   "metadata": {},
   "outputs": [],
   "source": [
    "task_list = []"
   ]
  },
  {
   "cell_type": "code",
   "execution_count": 22,
   "metadata": {},
   "outputs": [],
   "source": [
    "def add_task():\n",
    "    task = task_entry.get()\n",
    "    task_entry.delete(0, tk.END)\n",
    "\n",
    "    if task:\n",
    "        with open(\"tasklist.txt\", 'a') as task_file:\n",
    "            task_file.write (f\"\\n{task}\")\n",
    "        task_list.append(task)\n",
    "        list_box.insert (tk.END, task)\n"
   ]
  },
  {
   "cell_type": "code",
   "execution_count": 23,
   "metadata": {},
   "outputs": [],
   "source": [
    "def delete_task():\n",
    "    global task_list\n",
    "    task = str(list_box.get(tk.ANCHOR))\n",
    "    if task in task_list:\n",
    "        task_list.remove(task)\n",
    "        with open (\"tasklist.txt\", \"w\") as task_file:\n",
    "            for task in task_list:\n",
    "                task_file.write(task + \"\\n\")\n",
    "\n",
    "        list_box.delete(tk.ANCHOR)"
   ]
  },
  {
   "cell_type": "code",
   "execution_count": 24,
   "metadata": {},
   "outputs": [],
   "source": [
    "def open_task_file():\n",
    "\n",
    "    try:\n",
    "        global task_list\n",
    "        with open(\"tasklist.txt\", \"r\") as task_file:\n",
    "            tasks = task_file.readlines() \n",
    "\n",
    "        for task in tasks:\n",
    "            if task != '\\n':\n",
    "                task_list.append(task)\n",
    "                list_box.insert(tk.END, task)\n",
    "    \n",
    "    except:\n",
    "        file= open (\"tasklist.txt\", 'w')\n",
    "        file.close()"
   ]
  },
  {
   "cell_type": "code",
   "execution_count": 25,
   "metadata": {},
   "outputs": [],
   "source": [
    "image_icon = tk.PhotoImage(file= \"task.png\")\n",
    "window.iconphoto (False, image_icon)\n",
    "\n"
   ]
  },
  {
   "cell_type": "code",
   "execution_count": 26,
   "metadata": {},
   "outputs": [],
   "source": [
    "top_image = tk.PhotoImage(file = \"topbar.png\")\n",
    "add_label = tk.Label(window, image= top_image)\n",
    "add_label.pack()"
   ]
  },
  {
   "cell_type": "code",
   "execution_count": 27,
   "metadata": {},
   "outputs": [],
   "source": [
    "dock_image = tk.PhotoImage(file= \"dock.png\")\n",
    "create_label = tk.Label (window, image= dock_image, bg= \"#32405b\")\n",
    "create_label.place(x=30, y=25)"
   ]
  },
  {
   "cell_type": "code",
   "execution_count": 28,
   "metadata": {},
   "outputs": [],
   "source": [
    "note_image = tk.PhotoImage(file= \"task.png\")\n",
    "make_label = tk.Label(window, image=note_image, bg=\"#32405b\")\n",
    "make_label.place (x= 340, y= 25)"
   ]
  },
  {
   "cell_type": "code",
   "execution_count": 29,
   "metadata": {},
   "outputs": [],
   "source": [
    "heading = tk.Label(window, text= \"ALL TASKS\", font= \"Helvetica 20 bold\", fg= \"white\", bg= \"#32405b\")\n",
    "heading.place(x= 130, y=20)"
   ]
  },
  {
   "cell_type": "code",
   "execution_count": 30,
   "metadata": {},
   "outputs": [],
   "source": [
    "frame = tk.Frame(window, width= 400, height= 50, bg= \"white\")\n",
    "frame.place (x= 0, y= 180)"
   ]
  },
  {
   "cell_type": "code",
   "execution_count": 31,
   "metadata": {},
   "outputs": [],
   "source": [
    "task = tk.StringVar()\n",
    "task_entry = tk.Entry (frame, width=18, font= \"Helvetica 20\", bd= 0) \n",
    "task_entry.place(x= 10, y= 7)\n",
    "task_entry.focus()"
   ]
  },
  {
   "cell_type": "code",
   "execution_count": 32,
   "metadata": {},
   "outputs": [],
   "source": [
    "button = tk.Button(frame, text= \"ADD TASK\", font= \"Helvetica 20 bold\", width= 10, bg= \"#5a95ff\", fg= \"#fff\", bd=0, command= add_task)\n",
    "button.place(x= 230, y= 0)\n",
    "\n"
   ]
  },
  {
   "cell_type": "code",
   "execution_count": null,
   "metadata": {},
   "outputs": [],
   "source": [
    "list_frame=  tk.Frame(window, bd= 3, width=700, height=280, bg=\"#32405b\")\n",
    "list_frame.pack(pady=(160,0))"
   ]
  },
  {
   "cell_type": "code",
   "execution_count": null,
   "metadata": {},
   "outputs": [],
   "source": [
    "list_box = tk.Listbox(list_frame, font= ('Helvetica', 12), width= 40, height= 16, bg= \"#32405b\", fg= \"white\", cursor= \"hand2\", selectbackground=\"#5a95ff\")\n",
    "list_box.pack(side= tk.LEFT, fill=tk.BOTH, padx=2)\n",
    "scrollbar = tk.Scrollbar(list_frame)\n",
    "scrollbar.pack (side= tk.RIGHT, fill=  tk.BOTH)"
   ]
  },
  {
   "cell_type": "code",
   "execution_count": null,
   "metadata": {},
   "outputs": [],
   "source": [
    "list_box.config(yscrollcommand= scrollbar.set)\n",
    "scrollbar.config(command= list_box.yview)\n",
    "\n",
    "open_task_file()"
   ]
  },
  {
   "cell_type": "code",
   "execution_count": null,
   "metadata": {},
   "outputs": [],
   "source": [
    "delete_icon = tk.PhotoImage(file= \"delete.png\")\n",
    "delete_button= tk.Button (window, image= delete_icon, bd=0, command= delete_task)\n",
    "delete_button.pack(side= tk.BOTTOM, pady= 13)\n",
    "\n",
    "window.mainloop()"
   ]
  }
 ],
 "metadata": {
  "kernelspec": {
   "display_name": "Python 3",
   "language": "python",
   "name": "python3"
  },
  "language_info": {
   "codemirror_mode": {
    "name": "ipython",
    "version": 3
   },
   "file_extension": ".py",
   "mimetype": "text/x-python",
   "name": "python",
   "nbconvert_exporter": "python",
   "pygments_lexer": "ipython3",
   "version": "3.10.8"
  },
  "orig_nbformat": 4
 },
 "nbformat": 4,
 "nbformat_minor": 2
}

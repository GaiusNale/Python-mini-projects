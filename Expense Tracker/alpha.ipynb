{
 "cells": [
  {
   "cell_type": "code",
   "execution_count": 35,
   "metadata": {},
   "outputs": [],
   "source": [
    "import csv"
   ]
  },
  {
   "cell_type": "code",
   "execution_count": 36,
   "metadata": {},
   "outputs": [],
   "source": [
    "def record_expense(filename, date, category, amount, description):\n",
    "    with open (filename, \"a\", newline=\"\") as file:\n",
    "        writer = csv.writer(file)\n",
    "        writer.writerow([date, category, amount, description ])"
   ]
  },
  {
   "cell_type": "code",
   "execution_count": 37,
   "metadata": {},
   "outputs": [],
   "source": [
    "def generate_report (filename):\n",
    "    totals = {}\n",
    "    with open (filename, \"r\", newline=\"\"):\n",
    "        reader = csv.reader(file)\n",
    "        next(reader)\n",
    "        for row in reader:\n",
    "            category = row[1]\n",
    "            amount = float(row[2])\n",
    "            totals[category] = totals.get(category, 0) + amount \n",
    "    print (\"Total Expenses by Category\")\n",
    "    print (\"--------------------------\")\n",
    "    for category, total in totals.items():\n",
    "        print (f\"{category:10} {total:10.2f}\")\n",
    "    print ()"
   ]
  },
  {
   "cell_type": "code",
   "execution_count": 38,
   "metadata": {},
   "outputs": [],
   "source": [
    "def get_total_expenses(filename):\n",
    "    total=0\n",
    "    with open (filename, \"r\", newline=\"\") as file:\n",
    "        reader = csv.reader(file)\n",
    "        next(reader)\n",
    "        for row in reader:\n",
    "            amount = float(row[2])\n",
    "            total += amount\n",
    "    return total"
   ]
  },
  {
   "cell_type": "code",
   "execution_count": 39,
   "metadata": {},
   "outputs": [],
   "source": [
    "def check_limit(filename, limit):\n",
    "    total = get_total_expenses(filename)\n",
    "    if total > limit:\n",
    "        print (f\"Warning: You have exceeded your limit of {limit:.2f}. Your total expenses are {total:.2f}.\")\n",
    "    else:\n",
    "        print (f\"You are within your limit of {limit:.2f}. Your total expenses are {total:.2f}\")\n",
    "        "
   ]
  },
  {
   "cell_type": "code",
   "execution_count": 40,
   "metadata": {},
   "outputs": [],
   "source": [
    "filename = \"expenses.csv\"\n",
    "header = [\"Date\", \"Category\", \"Amount\", \"Description\"]"
   ]
  },
  {
   "cell_type": "code",
   "execution_count": 41,
   "metadata": {},
   "outputs": [],
   "source": [
    "with open(filename, \"w\", newline=\"\") as file:\n",
    "    writer = csv.writer(file)\n",
    "    writer.writerow(header)"
   ]
  },
  {
   "cell_type": "code",
   "execution_count": 42,
   "metadata": {},
   "outputs": [],
   "source": [
    "limit = 100000.00"
   ]
  },
  {
   "cell_type": "code",
   "execution_count": 43,
   "metadata": {},
   "outputs": [],
   "source": [
    "answer = input (\"Do you want to record an expense? (y/n)\")"
   ]
  },
  {
   "cell_type": "code",
   "execution_count": 44,
   "metadata": {},
   "outputs": [
    {
     "name": "stdout",
     "output_type": "stream",
     "text": [
      "You are within your limit of 100000.00. Your total expenses are 25000.00\n",
      "You are within your limit of 100000.00. Your total expenses are 75000.00\n",
      "Warning: You have exceeded your limit of 100000.00. Your total expenses are 102000.00.\n"
     ]
    },
    {
     "ename": "ValueError",
     "evalue": "I/O operation on closed file.",
     "output_type": "error",
     "traceback": [
      "\u001b[1;31m---------------------------------------------------------------------------\u001b[0m",
      "\u001b[1;31mValueError\u001b[0m                                Traceback (most recent call last)",
      "\u001b[1;32mc:\\Users\\Gaius\\Documents\\Projects\\Expense Tracker\\alpha.ipynb Cell 10\u001b[0m in \u001b[0;36m1\n\u001b[0;32m      <a href='vscode-notebook-cell:/c%3A/Users/Gaius/Documents/Projects/Expense%20Tracker/alpha.ipynb#X12sZmlsZQ%3D%3D?line=7'>8</a>\u001b[0m     answer \u001b[39m=\u001b[39m \u001b[39minput\u001b[39m (\u001b[39m\"\u001b[39m\u001b[39mDo you want to record another expense? (y/n)\u001b[39m\u001b[39m\"\u001b[39m)\n\u001b[0;32m     <a href='vscode-notebook-cell:/c%3A/Users/Gaius/Documents/Projects/Expense%20Tracker/alpha.ipynb#X12sZmlsZQ%3D%3D?line=9'>10</a>\u001b[0m \u001b[39mif\u001b[39;00m answer\u001b[39m.\u001b[39mlower() \u001b[39m==\u001b[39m \u001b[39m\"\u001b[39m\u001b[39mn\u001b[39m\u001b[39m\"\u001b[39m:\n\u001b[1;32m---> <a href='vscode-notebook-cell:/c%3A/Users/Gaius/Documents/Projects/Expense%20Tracker/alpha.ipynb#X12sZmlsZQ%3D%3D?line=10'>11</a>\u001b[0m     generate_report(filename)\n\u001b[0;32m     <a href='vscode-notebook-cell:/c%3A/Users/Gaius/Documents/Projects/Expense%20Tracker/alpha.ipynb#X12sZmlsZQ%3D%3D?line=11'>12</a>\u001b[0m     \u001b[39mprint\u001b[39m (\u001b[39m\"\u001b[39m\u001b[39mThank you for using the expense tracker\u001b[39m\u001b[39m\"\u001b[39m)\n",
      "\u001b[1;32mc:\\Users\\Gaius\\Documents\\Projects\\Expense Tracker\\alpha.ipynb Cell 10\u001b[0m in \u001b[0;36m4\n\u001b[0;32m      <a href='vscode-notebook-cell:/c%3A/Users/Gaius/Documents/Projects/Expense%20Tracker/alpha.ipynb#X12sZmlsZQ%3D%3D?line=1'>2</a>\u001b[0m totals \u001b[39m=\u001b[39m {}\n\u001b[0;32m      <a href='vscode-notebook-cell:/c%3A/Users/Gaius/Documents/Projects/Expense%20Tracker/alpha.ipynb#X12sZmlsZQ%3D%3D?line=2'>3</a>\u001b[0m \u001b[39mwith\u001b[39;00m \u001b[39mopen\u001b[39m (filename, \u001b[39m\"\u001b[39m\u001b[39mr\u001b[39m\u001b[39m\"\u001b[39m, newline\u001b[39m=\u001b[39m\u001b[39m\"\u001b[39m\u001b[39m\"\u001b[39m):\n\u001b[1;32m----> <a href='vscode-notebook-cell:/c%3A/Users/Gaius/Documents/Projects/Expense%20Tracker/alpha.ipynb#X12sZmlsZQ%3D%3D?line=3'>4</a>\u001b[0m     reader \u001b[39m=\u001b[39m csv\u001b[39m.\u001b[39;49mreader(file)\n\u001b[0;32m      <a href='vscode-notebook-cell:/c%3A/Users/Gaius/Documents/Projects/Expense%20Tracker/alpha.ipynb#X12sZmlsZQ%3D%3D?line=4'>5</a>\u001b[0m     \u001b[39mnext\u001b[39m(reader)\n\u001b[0;32m      <a href='vscode-notebook-cell:/c%3A/Users/Gaius/Documents/Projects/Expense%20Tracker/alpha.ipynb#X12sZmlsZQ%3D%3D?line=5'>6</a>\u001b[0m     \u001b[39mfor\u001b[39;00m row \u001b[39min\u001b[39;00m reader:\n",
      "\u001b[1;31mValueError\u001b[0m: I/O operation on closed file."
     ]
    }
   ],
   "source": [
    "while answer.lower() == \"y\":\n",
    "    date = input (\"Enter the date of the expense (DD-MM-YYYY): \")\n",
    "    category = input (\"Enter the category of the expense (e.g Food, Transport, Rent, etc): \")\n",
    "    amount = float(input(\"Enter the amount of the expense: \"))\n",
    "    description = input (\"Enter a brief description of the expense: \")\n",
    "    record_expense(filename, date, category, amount, description)\n",
    "    check_limit(filename, limit)\n",
    "    answer = input (\"Do you want to record another expense? (y/n)\")\n",
    "\n",
    "if answer.lower() == \"n\":\n",
    "    generate_report(filename)\n",
    "    print (\"Thank you for using the expense tracker\")"
   ]
  }
 ],
 "metadata": {
  "kernelspec": {
   "display_name": "Python 3",
   "language": "python",
   "name": "python3"
  },
  "language_info": {
   "codemirror_mode": {
    "name": "ipython",
    "version": 3
   },
   "file_extension": ".py",
   "mimetype": "text/x-python",
   "name": "python",
   "nbconvert_exporter": "python",
   "pygments_lexer": "ipython3",
   "version": "3.10.8"
  },
  "orig_nbformat": 4
 },
 "nbformat": 4,
 "nbformat_minor": 2
}

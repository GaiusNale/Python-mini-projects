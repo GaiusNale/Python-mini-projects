{
 "cells": [
  {
   "cell_type": "code",
   "execution_count": 1,
   "metadata": {},
   "outputs": [],
   "source": [
    "import requests\n",
    "from colorama import Fore, Style\n",
    "from emoji import emojize"
   ]
  },
  {
   "cell_type": "code",
   "execution_count": 2,
   "metadata": {},
   "outputs": [],
   "source": [
    "api_key = \"419b87c5611ad660453b06003a68f583\""
   ]
  },
  {
   "cell_type": "code",
   "execution_count": 3,
   "metadata": {},
   "outputs": [],
   "source": [
    "user_input = input(\"Enter a city: \")\n"
   ]
  },
  {
   "cell_type": "code",
   "execution_count": 4,
   "metadata": {},
   "outputs": [],
   "source": [
    "weather_data = requests.get(\n",
    "    f\"https://api.openweathermap.org/data/2.5/weather?q={user_input}&units=imperial&APPID={api_key}\")\n",
    "\n",
    "weather_data_json = weather_data.json()"
   ]
  },
  {
   "cell_type": "code",
   "execution_count": 5,
   "metadata": {},
   "outputs": [],
   "source": [
    "if weather_data_json.get('cod') == '404':\n",
    "    print (Fore.RED + f\"No city called {user_input} was found\" + Style.RESET_ALL)\n",
    "else:\n",
    "    weather = emojize(\":partly_sunny:\")\n",
    "    if 'weather' in weather_data_json and len(weather_data_json['weather']) > 0:\n",
    "         weather_desc = weather_data_json ['weather'][0]['main'].lower()\n",
    "         emoji_mapping = {\n",
    "             'clear': emojize (\"Clear :sun:\"),\n",
    "             'clouds': emojize (\"Cloudy :cloud:\"),\n",
    "             'rain': emojize (\"Rain :umbrella:\"),\n",
    "             'thunderstorm': emojize (\"Thuder storm :thunder_cloud_and_rain:\"),\n",
    "             'drizzle': emojize (\"Drizzle :cloud_with_rain:\"),\n",
    "             'snow': emojize (\"Snow :snowflake:\"),\n",
    "             'mist': emojize (\"Mist :fog:\"),\n",
    "         }\n",
    "         weather = emoji_mapping.get(weather_desc, emojize(\":partly_sunny:\"))    \n",
    "    temp = round (weather_data.json() ['main'] ['temp'])\n",
    "    temp_cel = round ((temp -32) * 5/9)\n",
    "    humidity = weather_data_json['main']['humidity']\n",
    "    wind_speed = weather_data_json['wind']['speed']\n",
    "    visibility = weather_data_json.get('visibility', 'N/A')\n",
    "\n"
   ]
  },
  {
   "cell_type": "code",
   "execution_count": 6,
   "metadata": {},
   "outputs": [
    {
     "name": "stdout",
     "output_type": "stream",
     "text": [
      "\u001b[34m The weather in London is: Cloudy ☁️\n",
      "\u001b[32m The tempreture in London is: 3℃ \u001b[0m\n",
      "\u001b[33m Humidity: 74% \u001b[0m\n",
      "\u001b[36m Wind Speed: 10.36 mph \u001b[0m\n",
      "\u001b[35m Visibility: 10000 meters \u001b[0m\n"
     ]
    }
   ],
   "source": [
    "print (Fore.BLUE, f\"The weather in {user_input} is: {weather}\"), Style.RESET_ALL\n",
    "print (Fore.GREEN , f\"The tempreture in {user_input} is: {temp_cel}℃\", Style.RESET_ALL )\n",
    "print(Fore.YELLOW , f\"Humidity: {humidity}%\" , Style.RESET_ALL)\n",
    "print(Fore.CYAN , f\"Wind Speed: {wind_speed} mph\" , Style.RESET_ALL)\n",
    "print(Fore.MAGENTA , f\"Visibility: {visibility} meters\" , Style.RESET_ALL)"
   ]
  }
 ],
 "metadata": {
  "kernelspec": {
   "display_name": "Python 3",
   "language": "python",
   "name": "python3"
  },
  "language_info": {
   "codemirror_mode": {
    "name": "ipython",
    "version": 3
   },
   "file_extension": ".py",
   "mimetype": "text/x-python",
   "name": "python",
   "nbconvert_exporter": "python",
   "pygments_lexer": "ipython3",
   "version": "3.10.8"
  },
  "orig_nbformat": 4
 },
 "nbformat": 4,
 "nbformat_minor": 2
}
